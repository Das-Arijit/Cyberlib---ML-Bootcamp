{
  "nbformat": 4,
  "nbformat_minor": 0,
  "metadata": {
    "colab": {
      "name": "Polynomial Regression.ipynb",
      "provenance": [],
      "collapsed_sections": []
    },
    "kernelspec": {
      "name": "python3",
      "display_name": "Python 3"
    },
    "language_info": {
      "name": "python"
    }
  },
  "cells": [
    {
      "cell_type": "code",
      "source": [
        "import numpy as np\n",
        "import pandas as pd\n",
        "import matplotlib.pyplot as plt"
      ],
      "metadata": {
        "id": "jclFxa84FG81"
      },
      "execution_count": null,
      "outputs": []
    },
    {
      "cell_type": "code",
      "source": [
        "######################################################################## UTILITY FUNCTIONS ######################################################################################"
      ],
      "metadata": {
        "id": "y8xJHduDfAL6"
      },
      "execution_count": null,
      "outputs": []
    },
    {
      "cell_type": "code",
      "source": [
        "''' converts from '.csv' file to a numpy array '''\n",
        "def extractData(s):\n",
        "  data_df = pd.read_csv(s)\n",
        "  return data_df.to_numpy()"
      ],
      "metadata": {
        "id": "uFhHFtX9B9Pa"
      },
      "execution_count": null,
      "outputs": []
    },
    {
      "cell_type": "code",
      "source": [
        "''' seperates the first column of a np array as index / serial numbers'''\n",
        "def seperateIndex(data):\n",
        "  return data[:,1:]"
      ],
      "metadata": {
        "id": "h0MgTxvCHE0q"
      },
      "execution_count": null,
      "outputs": []
    },
    {
      "cell_type": "code",
      "source": [
        "''' seperates the last column of a np array as label, and the rest as features'''\n",
        "def seperateFeatures(data):\n",
        "  X = data[:,:-1]\n",
        "  y = data[:,-1]\n",
        "  y.shape = (y.size,1)\n",
        "  return (X,y)"
      ],
      "metadata": {
        "id": "izg3gLBjHmte"
      },
      "execution_count": null,
      "outputs": []
    },
    {
      "cell_type": "code",
      "source": [
        "''' returns np array with values scaled data by the formula : (x-mean)/(standard deviation) '''\n",
        "def meanScaling(data):\n",
        "  return ((data - np.mean(data, axis=0))/np.std(data, axis=0))"
      ],
      "metadata": {
        "id": "zTPBd-9_0tUI"
      },
      "execution_count": null,
      "outputs": []
    },
    {
      "cell_type": "code",
      "source": [
        "'''returns np array with values descaled w.r.t original data'''\n",
        "def deMeanScaling(data_scaled, original_data):\n",
        "  return ((data_scaled*np.std(original_data, axis=0))+np.mean(original_data, axis=0))"
      ],
      "metadata": {
        "id": "dtYZCplK30HS"
      },
      "execution_count": null,
      "outputs": []
    },
    {
      "cell_type": "code",
      "source": [
        "''' return matrix with an added bias row (of all ones) as the first row of the given matrix '''\n",
        "def addBias(X):\n",
        "  m = X.shape[0]\n",
        "  u = np.ones((m,1))\n",
        "  X = np.append(u, X, axis = 1)\n",
        "  return X"
      ],
      "metadata": {
        "id": "ui-YwkjO5QFa"
      },
      "execution_count": null,
      "outputs": []
    },
    {
      "cell_type": "code",
      "source": [
        "###################################################################################################################################################################################"
      ],
      "metadata": {
        "id": "KZISq53SfBrD"
      },
      "execution_count": null,
      "outputs": []
    },
    {
      "cell_type": "code",
      "source": [
        "'''Adds second degree features to given design matrix'''\n",
        "def degree2(X):\n",
        "  m,n = X.shape\n",
        "  c_X = np.copy(X)\n",
        "  features = np.hsplit(X, n)\n",
        "  for i in range(n):\n",
        "    for j in range(i,n):\n",
        "      c_X = np.append(c_X, features[i]*features[j], axis = 1)\n",
        "\n",
        "  return c_X"
      ],
      "metadata": {
        "id": "iTDrQTL5x8Mq"
      },
      "execution_count": null,
      "outputs": []
    },
    {
      "cell_type": "code",
      "source": [
        "'''Adds second and third degree features to given design matrix'''\n",
        "def degree3(X):\n",
        "  m,n = X.shape\n",
        "  X_2 = degree2(X)\n",
        "  features = np.hsplit(X, n)\n",
        "  for i in range(n):\n",
        "    for j in range(i,n):\n",
        "      for k in range(j,n):\n",
        "        X_2 = np.append(X_2, features[i]*features[j]*features[k], axis=1)\n",
        "\n",
        "  return X_2"
      ],
      "metadata": {
        "id": "0SdhPiX94N04"
      },
      "execution_count": null,
      "outputs": []
    },
    {
      "cell_type": "code",
      "source": [
        "'''returns regularised mse between two vectors (hypothesis and target vector)'''\n",
        "def regLoss(y, hypothesis, reg_coeff, theta):\n",
        "  m = y.size\n",
        "  c_theta = theta.copy()\n",
        "  c_theta[0] = 0\n",
        "  loss = (1/(2*m))*(np.sum((hypothesis - y)**2) + reg_coeff * np.sum(np.square(c_theta)))\n",
        "  return loss"
      ],
      "metadata": {
        "id": "VqV8lY7SEUuC"
      },
      "execution_count": null,
      "outputs": []
    },
    {
      "cell_type": "code",
      "source": [
        "'''returns mse between two vectors (hypothesis and target vector)'''\n",
        "def loss(hypothesis, y):\n",
        "  m = y.size\n",
        "  return (1/(2*m))*(np.sum((hypothesis - y)**2))"
      ],
      "metadata": {
        "id": "H4nl9TBYGsAO"
      },
      "execution_count": null,
      "outputs": []
    },
    {
      "cell_type": "code",
      "source": [
        "'''returns regularised gradient between two vectors (hypothesis and target vector)'''\n",
        "def regGradient(X, y, hypothesis, reg_coeff, theta):\n",
        "  m = y.size\n",
        "  c_theta = theta.copy()\n",
        "  c_theta[0] = 0\n",
        "  grad = (X.T@(hypothesis-y) + reg_coeff*c_theta)/m\n",
        "  return grad"
      ],
      "metadata": {
        "id": "EjkjTk0gEjZp"
      },
      "execution_count": null,
      "outputs": []
    },
    {
      "cell_type": "code",
      "source": [
        "def train(X_train, y_train, num_iter, alpha, reg_coeff):\n",
        "\n",
        "  '''\n",
        "  X_train     --> design matrix (before adding features)\n",
        "  y_train     --> target value / true result (m x 1)\n",
        "  num_iter    --> number of iteration (int)\n",
        "  alpha       --> learning rate\n",
        "  reg_coeff   --> regularisation coefficient\n",
        "  '''\n",
        "\n",
        "  # initialising losses\n",
        "  losses = []\n",
        "\n",
        "  # adding features to X\n",
        "  X_train = degree3(X_train)\n",
        "  X_train = meanScaling(X_train)\n",
        "  X_train = addBias(X_train)\n",
        "\n",
        "  m,n = X_train.shape\n",
        "  # m --> number of trainig examples\n",
        "  # n --> number of features \n",
        "\n",
        "  #reshaping and scaling y\n",
        "  y_train.shape = (m,1)\n",
        "  y_train = meanScaling(y_train)\n",
        "  \n",
        "  #initialising theta\n",
        "  theta = np.zeros((n,1))\n",
        "\n",
        "  # training loop\n",
        "  for i in range(num_iter):\n",
        "    hypothesis = X_train@theta\n",
        "\n",
        "    #calculating and appending loss\n",
        "    losses.append( regLoss(y_train, hypothesis, reg_coeff, theta) ) \n",
        "\n",
        "    #calculating gradient\n",
        "    grad = regGradient(X_train, y_train, hypothesis, reg_coeff, theta)\n",
        "\n",
        "    # updating theta\n",
        "    theta -= alpha*grad\n",
        "\n",
        "  #plotting loss\n",
        "  for i in range(-1, -6, -1):\n",
        "    print(losses[i])\n",
        "  plt.plot(losses)\n",
        "\n",
        "  return theta"
      ],
      "metadata": {
        "id": "-RNRSiNvFGeQ"
      },
      "execution_count": null,
      "outputs": []
    },
    {
      "cell_type": "code",
      "source": [
        "def predict(X_test, y_test, y_train, theta):\n",
        "\n",
        "  '''\n",
        "  X_test  --> Design matrix of features of testing data\n",
        "  y_test  --> Target value vector of testing data\n",
        "  y_train --> Target value vector of trainig data (for descaling)\n",
        "  theta   --> parameter obtained after training\n",
        "  '''\n",
        "\n",
        "  # adding features to X, scaling and adding bias term\n",
        "  X_test = degree3(X_test)\n",
        "  X_test = meanScaling(X_test)\n",
        "  X_test = addBias(X_test)\n",
        "\n",
        "  #m --> number of training examples\n",
        "  m = X_test.shape[0]\n",
        "\n",
        "  hypothesis = deMeanScaling(X_test@theta, y_train)\n",
        "  print('Loss =', loss(hypothesis, y_test))\n",
        "\n",
        "  return hypothesis"
      ],
      "metadata": {
        "id": "g8Q2OSaCFLju"
      },
      "execution_count": null,
      "outputs": []
    },
    {
      "cell_type": "code",
      "source": [
        "data_train = extractData('/content/drive/MyDrive/WOC/Datasets/Polynomial_train.csv')\n",
        "data_train = seperateIndex(data_train)\n",
        "X_train,y_train = seperateFeatures(data_train)"
      ],
      "metadata": {
        "id": "ayPda-Ch5_I0"
      },
      "execution_count": null,
      "outputs": []
    },
    {
      "cell_type": "code",
      "source": [
        "data_test = extractData('/content/drive/MyDrive/WOC/Datasets/Polynomial_test.csv')\n",
        "data_test = seperateIndex(data_test)\n",
        "X_test,y_test = seperateFeatures(data_test)"
      ],
      "metadata": {
        "id": "3UyH4Acn7NKt"
      },
      "execution_count": null,
      "outputs": []
    },
    {
      "cell_type": "code",
      "source": [
        "theta = train(X_train, y_train, 1000, 0.06, 1)"
      ],
      "metadata": {
        "colab": {
          "base_uri": "https://localhost:8080/",
          "height": 352
        },
        "id": "DDKP58Yj8HF7",
        "outputId": "9debb01c-d0c6-4939-cc98-df788e77210e"
      },
      "execution_count": null,
      "outputs": [
        {
          "output_type": "stream",
          "name": "stdout",
          "text": [
            "3.522220338241244e-05\n",
            "3.5222203732734346e-05\n",
            "3.522220408653184e-05\n",
            "3.522220444384143e-05\n",
            "3.522220480469998e-05\n"
          ]
        },
        {
          "output_type": "display_data",
          "data": {
            "text/plain": [
              "<Figure size 432x288 with 1 Axes>"
            ],
            "image/png": "[encoded data removed]"
          },
          "metadata": {
            "needs_background": "light"
          }
        }
      ]
    },
    {
      "cell_type": "code",
      "source": [
        "hypothesis = predict(X_test, y_test, y_train, theta)"
      ],
      "metadata": {
        "colab": {
          "base_uri": "https://localhost:8080/"
        },
        "id": "SsM8A_FW8VQ2",
        "outputId": "e145af8c-be45-4fa1-a3f4-a6eb55073546"
      },
      "execution_count": null,
      "outputs": [
        {
          "output_type": "stream",
          "name": "stdout",
          "text": [
            "Loss = 61.64628540222587\n"
          ]
        }
      ]
    },
    {
      "cell_type": "code",
      "source": [
        "plt.scatter(range(10), y_test[:10], c='g')\n",
        "plt.plot(range(10), hypothesis[:10])"
      ],
      "metadata": {
        "id": "ZJ7X6ptaVfQ5",
        "colab": {
          "base_uri": "https://localhost:8080/",
          "height": 282
        },
        "outputId": "39dea2b8-af8e-4477-b46c-dc3023ff61e8"
      },
      "execution_count": null,
      "outputs": [
        {
          "output_type": "execute_result",
          "data": {
            "text/plain": [
              "[<matplotlib.lines.Line2D at 0x7fb7170bbcd0>]"
            ]
          },
          "metadata": {},
          "execution_count": 76
        },
        {
          "output_type": "display_data",
          "data": {
            "text/plain": [
              "<Figure size 432x288 with 1 Axes>"
            ],
            "image/png": "[encoded data removed]"
          },
          "metadata": {
            "needs_background": "light"
          }
        }
      ]
    },
    {
      "cell_type": "code",
      "source": [
        ""
      ],
      "metadata": {
        "id": "GOFGChrikg_o"
      },
      "execution_count": null,
      "outputs": []
    }
  ]
}