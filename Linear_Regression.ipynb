{
  "nbformat": 4,
  "nbformat_minor": 0,
  "metadata": {
    "colab": {
      "name": "Linear Regression.ipynb",
      "provenance": [],
      "collapsed_sections": []
    },
    "kernelspec": {
      "name": "python3",
      "display_name": "Python 3"
    },
    "language_info": {
      "name": "python"
    },
    "accelerator": "GPU"
  },
  "cells": [
    {
      "cell_type": "code",
      "source": [
        "import numpy as np\n",
        "import pandas as pd\n",
        "import matplotlib.pyplot as plt"
      ],
      "metadata": {
        "id": "qEDFTy6m8vxW"
      },
      "execution_count": null,
      "outputs": []
    },
    {
      "cell_type": "code",
      "source": [
        "######################################################################## UTILITY FUNCTIONS ######################################################################################"
      ],
      "metadata": {
        "id": "0WG3gqVeGa0-"
      },
      "execution_count": null,
      "outputs": []
    },
    {
      "cell_type": "code",
      "source": [
        "''' converts from '.csv' file to a numpy array '''\n",
        "def extractData(s):\n",
        "  data_df = pd.read_csv(s)\n",
        "  return data_df.to_numpy()"
      ],
      "metadata": {
        "id": "uFhHFtX9B9Pa"
      },
      "execution_count": null,
      "outputs": []
    },
    {
      "cell_type": "code",
      "source": [
        "''' seperates the first column of a np array as index / serial numbers'''\n",
        "def seperateIndex(data):\n",
        "  return data[:,1:]"
      ],
      "metadata": {
        "id": "h0MgTxvCHE0q"
      },
      "execution_count": null,
      "outputs": []
    },
    {
      "cell_type": "code",
      "source": [
        "''' seperates the last column of a np array as label, and the rest as features'''\n",
        "def seperateFeatures(data):\n",
        "  X = data[:,:-1]\n",
        "  y = data[:,-1]\n",
        "  y.shape = (y.size,1)\n",
        "  return (X,y)"
      ],
      "metadata": {
        "id": "izg3gLBjHmte"
      },
      "execution_count": null,
      "outputs": []
    },
    {
      "cell_type": "code",
      "source": [
        "''' returns np array with values scaled data by the formula : (x-mean)/(standard deviation) '''\n",
        "def meanScaling(data):\n",
        "  return ((data - np.mean(data, axis=0))/np.std(data, axis=0))"
      ],
      "metadata": {
        "id": "zTPBd-9_0tUI"
      },
      "execution_count": null,
      "outputs": []
    },
    {
      "cell_type": "code",
      "source": [
        "'''returns np array with values descaled w.r.t original data'''\n",
        "def deMeanScaling(data_scaled, original_data):\n",
        "  return ((data_scaled*np.std(original_data, axis=0))+np.mean(original_data, axis=0))"
      ],
      "metadata": {
        "id": "dtYZCplK30HS"
      },
      "execution_count": null,
      "outputs": []
    },
    {
      "cell_type": "code",
      "source": [
        "''' return matrix with an added bias row (of all ones) as the first row of the given matrix '''\n",
        "def addBias(X):\n",
        "  m = X.shape[0]\n",
        "  u = np.ones((m,1))\n",
        "  X = np.append(u, X, axis = 1)\n",
        "  return X"
      ],
      "metadata": {
        "id": "ui-YwkjO5QFa"
      },
      "execution_count": null,
      "outputs": []
    },
    {
      "cell_type": "code",
      "source": [
        "#################################################################################################################################################################################"
      ],
      "metadata": {
        "id": "KQNedDCIGoX5"
      },
      "execution_count": null,
      "outputs": []
    },
    {
      "cell_type": "code",
      "source": [
        "'''returns mse between two vectors (hypothesis and target vector)'''\n",
        "def loss(hypothesis, y):\n",
        "  m = y.size\n",
        "  return (1/(2*m))*(np.sum((hypothesis - y)**2))"
      ],
      "metadata": {
        "id": "H4nl9TBYGsAO"
      },
      "execution_count": null,
      "outputs": []
    },
    {
      "cell_type": "code",
      "source": [
        "'''returns the gradient of the loss function'''\n",
        "def gradient(X, hypothesis, y):\n",
        "  m = y.size\n",
        "  return (1/m)*(X.T@(hypothesis-y))"
      ],
      "metadata": {
        "id": "hqgL5IBbHGxE"
      },
      "execution_count": null,
      "outputs": []
    },
    {
      "cell_type": "code",
      "source": [
        "'''Training'''\n",
        "def train(X_train, y_train, num_iter, alpha):\n",
        "\n",
        "  '''\n",
        "  X-train  --> Design matrix of features of trainig data\n",
        "  y_train  --> Target value vector of trainig data\n",
        "  num_iter --> number of iterations\n",
        "  alpha    --> learning rate\n",
        "  '''\n",
        "  \n",
        "  m,n = X_train.shape\n",
        "  # m --> number of trainig examples\n",
        "  # n --> number of features\n",
        "\n",
        "  # initialising losses\n",
        "  losses=[]\n",
        "\n",
        "  #scaling X and adding bias\n",
        "  X_train = meanScaling(X_train)\n",
        "  X_train = addBias(X_train)\n",
        "\n",
        "  #initializing theta\n",
        "  theta = np.zeros((n+1,1))\n",
        "\n",
        "  #reshaping and scaling y\n",
        "  y_train.shape = (m,1)\n",
        "  y_train = meanScaling(y_train)\n",
        "\n",
        "  #trainig loop\n",
        "  for i in range(num_iter):\n",
        "\n",
        "    hypothesis = X_train@theta\n",
        "\n",
        "    #calculation and appending loss\n",
        "    losses.append(loss(hypothesis,y_train))\n",
        "\n",
        "    #calculating gradient\n",
        "    grad = gradient(X_train, hypothesis, y_train)\n",
        "\n",
        "    #updating theta\n",
        "    theta -= alpha*grad\n",
        "  \n",
        "  #plotting loss\n",
        "  plt.plot(losses)\n",
        "  for i in range(-1, -6, -1):\n",
        "    print(losses[i])\n",
        "\n",
        "  return theta"
      ],
      "metadata": {
        "id": "IYbrPMFvHdGQ"
      },
      "execution_count": null,
      "outputs": []
    },
    {
      "cell_type": "code",
      "source": [
        "def predict( X_test, y_test, y_train, theta):\n",
        "  '''\n",
        "  X_test  --> Design matrix of features of testing data\n",
        "  y_test  --> Target value vector of testing data\n",
        "  y_train --> Target value vector of trainig data (for descaling)\n",
        "  theta   --> parameter obtained after training\n",
        "  '''\n",
        "  \n",
        "  X_test = meanScaling(X_test)\n",
        "  X_test = addBias(X_test)\n",
        "\n",
        "  hypothesis = deMeanScaling(X_test@theta, y_train)\n",
        "  print('Loss = ', loss(hypothesis, y_test))\n",
        "  \n",
        "  return hypothesis"
      ],
      "metadata": {
        "id": "Sk5vQZ9oJcwU"
      },
      "execution_count": null,
      "outputs": []
    },
    {
      "cell_type": "code",
      "source": [
        "data_train = extractData('/content/drive/MyDrive/WOC/Datasets/Linear_train.csv')\n",
        "data_train = seperateIndex(data_train)\n",
        "X_train,y_train = seperateFeatures(data_train)"
      ],
      "metadata": {
        "id": "BAtofOW3J9Fn"
      },
      "execution_count": null,
      "outputs": []
    },
    {
      "cell_type": "code",
      "source": [
        "data_test = extractData('/content/drive/MyDrive/WOC/Datasets/Linear_test.csv')\n",
        "data_test = seperateIndex(data_test)\n",
        "X_test,y_test = seperateFeatures(data_test)"
      ],
      "metadata": {
        "id": "7es08W9bXl0_"
      },
      "execution_count": null,
      "outputs": []
    },
    {
      "cell_type": "code",
      "source": [
        "theta = train(X_train, y_train, 1000, 0.03)"
      ],
      "metadata": {
        "id": "newneCFFKhle",
        "colab": {
          "base_uri": "https://localhost:8080/",
          "height": 352
        },
        "outputId": "01733c47-bb20-4d57-b0f5-3f99746f3f73"
      },
      "execution_count": null,
      "outputs": [
        {
          "output_type": "stream",
          "name": "stdout",
          "text": [
            "7.805373437795185e-05\n",
            "7.805373437795185e-05\n",
            "7.805373437795185e-05\n",
            "7.805373437795183e-05\n",
            "7.805373437795186e-05\n"
          ]
        },
        {
          "output_type": "display_data",
          "data": {
            "text/plain": [
              "<Figure size 432x288 with 1 Axes>"
            ],
            "image/png": "[encoded data removed]"
          },
          "metadata": {
            "needs_background": "light"
          }
        }
      ]
    },
    {
      "cell_type": "code",
      "source": [
        "hypothesis = predict(X_test, y_test, y_train, theta)"
      ],
      "metadata": {
        "colab": {
          "base_uri": "https://localhost:8080/"
        },
        "id": "zz1uuB6BYpDg",
        "outputId": "573ae28b-9350-4d4b-f0ef-e654d730832f"
      },
      "execution_count": null,
      "outputs": [
        {
          "output_type": "stream",
          "name": "stdout",
          "text": [
            "Loss =  2794.586689591185\n"
          ]
        }
      ]
    },
    {
      "cell_type": "code",
      "source": [
        "plt.scatter(range(10), y_test[:10], c='g')\n",
        "plt.plot(range(10), hypothesis[:10])"
      ],
      "metadata": {
        "colab": {
          "base_uri": "https://localhost:8080/",
          "height": 282
        },
        "id": "rVC8mGWYbkkX",
        "outputId": "1b84632c-6581-4e19-cb73-db3ca112fd78"
      },
      "execution_count": null,
      "outputs": [
        {
          "output_type": "execute_result",
          "data": {
            "text/plain": [
              "[<matplotlib.lines.Line2D at 0x7f21d6b9e790>]"
            ]
          },
          "metadata": {},
          "execution_count": 42
        },
        {
          "output_type": "display_data",
          "data": {
            "text/plain": [
              "<Figure size 432x288 with 1 Axes>"
            ],
            "image/png": "[encoded data removed]"
          },
          "metadata": {
            "needs_background": "light"
          }
        }
      ]
    },
    {
      "cell_type": "code",
      "source": [
        ""
      ],
      "metadata": {
        "id": "CSBG06gIcp7C"
      },
      "execution_count": null,
      "outputs": []
    }
  ]
}