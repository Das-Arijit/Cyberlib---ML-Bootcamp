{
  "nbformat": 4,
  "nbformat_minor": 0,
  "metadata": {
    "colab": {
      "name": "K - Means Clustering.ipynb",
      "provenance": [],
      "collapsed_sections": []
    },
    "kernelspec": {
      "name": "python3",
      "display_name": "Python 3"
    },
    "language_info": {
      "name": "python"
    }
  },
  "cells": [
    {
      "cell_type": "code",
      "source": [
        "import numpy as np\n",
        "import pandas as pd\n",
        "import matplotlib.pyplot as plt\n",
        "import random as rd"
      ],
      "metadata": {
        "id": "uNjDMFkICNSG"
      },
      "execution_count": 2,
      "outputs": []
    },
    {
      "cell_type": "code",
      "source": [
        "######################################################################## UTILITY FUNCTIONS ######################################################################################"
      ],
      "metadata": {
        "id": "sI02LVtFcID1"
      },
      "execution_count": 3,
      "outputs": []
    },
    {
      "cell_type": "code",
      "source": [
        "''' converts from '.csv' file to a numpy array '''\n",
        "def extractData(s):\n",
        "  data_df = pd.read_csv(s, header = None)\n",
        "  return data_df.to_numpy()"
      ],
      "metadata": {
        "id": "uFhHFtX9B9Pa"
      },
      "execution_count": 4,
      "outputs": []
    },
    {
      "cell_type": "code",
      "source": [
        "''' seperates the first column of a np array as index / serial numbers'''\n",
        "def seperateIndex(data):\n",
        "  return data[:,1:]"
      ],
      "metadata": {
        "id": "h0MgTxvCHE0q"
      },
      "execution_count": 5,
      "outputs": []
    },
    {
      "cell_type": "code",
      "source": [
        "#################################################################################################################################################################################"
      ],
      "metadata": {
        "id": "T1u07-FMcGi6"
      },
      "execution_count": 7,
      "outputs": []
    },
    {
      "cell_type": "code",
      "source": [
        "'''Calculates euclidian distance between a vector/matrix and a vector'''\n",
        "def distance(X, x):\n",
        "  diff = X - x\n",
        "  dist = np.sqrt(np.sum(diff**2, axis = 1))\n",
        "  return dist"
      ],
      "metadata": {
        "id": "NnmyfcTkfUNa"
      },
      "execution_count": 8,
      "outputs": []
    },
    {
      "cell_type": "code",
      "source": [
        "'''Calcualtes inertia of model/cluster'''\n",
        "def inertia(X, centroids_arr):\n",
        "  inertia_ = []\n",
        "  k = centroids_arr.shape[0]\n",
        "  X = X[np.argsort(X[:,0])]\n",
        "  for i in range(k):\n",
        "    cluster = X[np.where(X[:,0]==i)[0], 1:]\n",
        "    intra_cluster_dist = distance(cluster, centroids_arr[i])\n",
        "    inertia_.append(np.sum(intra_cluster_dist))\n",
        "  return inertia_"
      ],
      "metadata": {
        "id": "UNAqSMJRcfKc"
      },
      "execution_count": 9,
      "outputs": []
    },
    {
      "cell_type": "code",
      "source": [
        "'''Calculates Dunn Index of a model as min(inter cluster distance)/max(intra cluster distance)'''\n",
        "def dunnIndex(X, centroids_arr):\n",
        "  k = centroids_arr.shape[0]\n",
        "\n",
        "  X = X[np.argsort(X[:,0])]\n",
        "\n",
        "  intra_cluster_dist = []\n",
        "  for i in range(k):\n",
        "    cluster = X[np.where(X[:,0]==i)[0], 1:]\n",
        "    for j in range(cluster.shape[0]):\n",
        "      dist = np.sqrt(np.sum(np.square((cluster[j] - centroids_arr[i]))))\n",
        "      intra_cluster_dist.append(dist)\n",
        "\n",
        "  inter_cluster_dist = []\n",
        "  for i in range(k):\n",
        "    for j in range(i+1, k):\n",
        "      dist = np.sqrt(np.sum(np.square((centroids_arr[i] - centroids_arr[j]))))\n",
        "      inter_cluster_dist.append(dist)\n",
        "\n",
        "  dunn_index = min(inter_cluster_dist)/max(intra_cluster_dist)\n",
        "  return dunn_index"
      ],
      "metadata": {
        "id": "_xAK8yB3f8rp"
      },
      "execution_count": 1,
      "outputs": []
    },
    {
      "cell_type": "code",
      "source": [
        "def Kmeans (X, num_iter, k = 5):\n",
        "\n",
        "  '''\n",
        "  X        --> mxn design matrix of data points with n features and m points\n",
        "  num_iter --> number of iterations\n",
        "  k        --> number of clusters\n",
        "  '''\n",
        "\n",
        "  #initiating centroid and inertia list\n",
        "  centroids = []\n",
        "  inertia_list = []\n",
        "\n",
        "  # adding extra column to store cluster number\n",
        "  X = np.append(np.zeros((X.shape[0], 1)), X, axis = 1)\n",
        "\n",
        "  #Takig K unique random indexes\n",
        "  index = rd.sample(range(0,X.shape[0]), k)\n",
        "\n",
        "  #picking random centroids\n",
        "  for i in index :\n",
        "    centroids.append(X[:,1:][i])\n",
        "  centroids_arr = np.array(centroids)\n",
        "\n",
        "  #clustering loop\n",
        "  for i in range(num_iter):\n",
        "\n",
        "    #calculating intra cluster distance for each data point\n",
        "    for j in range (X.shape[0]):\n",
        "\n",
        "      dist = distance(np.array(centroids), X[:,1:][j])\n",
        "      #finding cluster index of nearest centroid \n",
        "      min_index = np.argmin(dist)\n",
        "\n",
        "      #assigning corresponding cluster number to data point\n",
        "      X[j][0] = min_index\n",
        "    \n",
        "    #Sorting points with same cluster number together\n",
        "    X = X[np.argsort(X[:,0])]\n",
        "\n",
        "    print(i)\n",
        "    #Appending inertia of current iteration\n",
        "    inertia_list.append((inertia(X, centroids_arr)))\n",
        "\n",
        "    for i in range(k):\n",
        "      # Updating after calculatinf new centroid\n",
        "      centroids_arr[i] = np.mean(X[np.where(X[:,0]==i)[0], 1:], axis = 0)\n",
        "  \n",
        "  print(inertia_list[0])\n",
        "  plt.plot(inertia_list[0])\n",
        "  \n",
        "  print(dunnIndex(X, centroids_arr))\n",
        "  \n",
        "  return X\n",
        "    "
      ],
      "metadata": {
        "id": "SWmYX103cPgh"
      },
      "execution_count": 10,
      "outputs": []
    },
    {
      "cell_type": "code",
      "source": [
        "X1 = extractData(\"/content/drive/MyDrive/WOC/Datasets/emnist-letters-train.csv\")\n",
        "X1 = seperateIndex(X1)"
      ],
      "metadata": {
        "id": "yJWcPkc5mFYi"
      },
      "execution_count": 11,
      "outputs": []
    },
    {
      "cell_type": "code",
      "source": [
        "X = Kmeans(X1, 100, 26)"
      ],
      "metadata": {
        "colab": {
          "base_uri": "https://localhost:8080/",
          "height": 1000
        },
        "id": "kOZcRWojz13c",
        "outputId": "09659dee-c8ea-41be-d72e-23537ecf7a71"
      },
      "execution_count": 12,
      "outputs": [
        {
          "output_type": "stream",
          "name": "stdout",
          "text": [
            "0\n",
            "1\n",
            "2\n",
            "3\n",
            "4\n",
            "5\n",
            "6\n",
            "7\n",
            "8\n",
            "9\n",
            "10\n",
            "11\n",
            "12\n",
            "13\n",
            "14\n",
            "15\n",
            "16\n",
            "17\n",
            "18\n",
            "19\n",
            "20\n",
            "21\n",
            "22\n",
            "23\n",
            "24\n",
            "25\n",
            "26\n",
            "27\n",
            "28\n",
            "29\n",
            "30\n",
            "31\n",
            "32\n",
            "33\n",
            "34\n",
            "35\n",
            "36\n",
            "37\n",
            "38\n",
            "39\n",
            "40\n",
            "41\n",
            "42\n",
            "43\n",
            "44\n",
            "45\n",
            "46\n",
            "47\n",
            "48\n",
            "49\n",
            "50\n",
            "51\n",
            "52\n",
            "53\n",
            "54\n",
            "55\n",
            "56\n",
            "57\n",
            "58\n",
            "59\n",
            "60\n",
            "61\n",
            "62\n",
            "63\n",
            "64\n",
            "65\n",
            "66\n",
            "67\n",
            "68\n",
            "69\n",
            "70\n",
            "71\n",
            "72\n",
            "73\n",
            "74\n",
            "75\n",
            "76\n",
            "77\n",
            "78\n",
            "79\n",
            "80\n",
            "81\n",
            "82\n",
            "83\n",
            "84\n",
            "85\n",
            "86\n",
            "87\n",
            "88\n",
            "89\n",
            "90\n",
            "91\n",
            "92\n",
            "93\n",
            "94\n",
            "95\n",
            "96\n",
            "97\n",
            "98\n",
            "99\n",
            "[1354031.16834989, 29233865.89511132, 5937455.346774362, 2315571.7577236053, 7613263.43224516, 11198650.142156135, 2646463.601512381, 3919414.611547066, 4214559.073776849, 3296056.9127808646, 7265662.961959459, 2779364.2950068405, 2276022.446796966, 15181214.248326387, 6585674.789725447, 9387636.059981123, 3540975.0188622708, 6323286.372108724, 6441668.0115663465, 5658739.226596686, 2082498.0842687355, 27318245.07203192, 4441211.51367935, 12970361.681225788, 2712149.774494106, 10938948.098130476]\n",
            "0.2244915204008792\n",
            "(88800, 785)\n"
          ]
        },
        {
          "output_type": "display_data",
          "data": {
            "text/plain": [
              "<Figure size 432x288 with 1 Axes>"
            ],
            "image/png": "[encoded data removed]"
          },
          "metadata": {
            "needs_background": "light"
          }
        }
      ]
    },
    {
      "cell_type": "code",
      "source": [
        ""
      ],
      "metadata": {
        "id": "60Nwzj5suQd2"
      },
      "execution_count": null,
      "outputs": []
    }
  ]
}